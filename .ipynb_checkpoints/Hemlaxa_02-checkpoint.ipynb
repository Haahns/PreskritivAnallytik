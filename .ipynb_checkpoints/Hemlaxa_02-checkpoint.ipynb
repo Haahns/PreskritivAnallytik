{
 "cells": [
  {
   "cell_type": "code",
   "execution_count": 2,
   "metadata": {},
   "outputs": [],
   "source": [
    "import numpy as np\n",
    "from matplotlib import pyplot as plt"
   ]
  },
  {
   "cell_type": "markdown",
   "metadata": {},
   "source": [
    "## 1. Utforska och jämför resultaten alpha  lika med  0.1 ,  0.2 ,  0.3  &  0.5 i det Icke-stationära (nonstationary) problemet. "
   ]
  },
  {
   "cell_type": "code",
   "execution_count": 4,
   "metadata": {},
   "outputs": [
    {
     "name": "stdout",
     "output_type": "stream",
     "text": [
      "0\n",
      "200\n",
      "400\n",
      "600\n",
      "800\n",
      "1000\n",
      "1200\n",
      "1400\n",
      "1600\n",
      "1800\n",
      "0\n",
      "200\n",
      "400\n",
      "600\n",
      "800\n",
      "1000\n",
      "1200\n",
      "1400\n",
      "1600\n",
      "1800\n",
      "0\n",
      "200\n",
      "400\n",
      "600\n",
      "800\n",
      "1000\n",
      "1200\n",
      "1400\n",
      "1600\n",
      "1800\n",
      "0\n",
      "200\n",
      "400\n",
      "600\n",
      "800\n",
      "1000\n",
      "1200\n",
      "1400\n",
      "1600\n",
      "1800\n"
     ]
    },
    {
     "data": {
      "image/png": "[encoded data removed]",
      "text/plain": [
       "<Figure size 432x288 with 1 Axes>"
      ]
     },
     "metadata": {
      "needs_background": "light"
     },
     "output_type": "display_data"
    }
   ],
   "source": [
    "# Added Q (i.e initial Q)\n",
    "\n",
    "class Bandit(object):\n",
    "    def __init__(self, numArms, trueRewards, epsilon, mode, Q, alpha): #<----\n",
    "        self.Q = [Q for i in range(numArms)]\n",
    "        self.N = [0 for i in range(numArms)]\n",
    "        self.numArms = numArms\n",
    "        self.epsilon = epsilon\n",
    "        self.trueRewards = trueRewards\n",
    "        self.lastAction = None\n",
    "        self.a = alpha\n",
    "        self.mode = mode  #<----\n",
    "        \n",
    "    def pull(self):\n",
    "        rand = np.random.random()                            # uniform distributed number\n",
    "        if rand <= self.epsilon: \n",
    "            whichArm = np.random.choice(self.numArms)        # compare a random number with epsilon , if smaller we take random action \n",
    "        elif rand > self.epsilon:\n",
    "            a = np.array([approx for approx in self.Q])      # otherwise we take the argmax of the estimates of the wewards\n",
    "            whichArm = np.random.choice(np.where(a == a.max())[0]) # we create a list with the max values, if we get more than one then we choose randomly\n",
    "        \n",
    "        self.lastAction = whichArm                                 # we keep the value of the arm \n",
    "        self.trueRewards = [reward + 0.1*np.random.randn() for reward in self.trueRewards]  # change in the distribution\n",
    "        \n",
    "        return np.random.randn() + self.trueRewards[whichArm]      # we return a normal distribution reward centered in the true reward for that action\n",
    "\n",
    "    \n",
    "    def updateMean(self,sample):\n",
    "        whichArm = self.lastAction\n",
    "        self.N[whichArm] += 1  \n",
    "    \n",
    "        if self.mode == 'sample-average':\n",
    "            self.Q[whichArm] = self.Q[whichArm] + 1.0/self.N[whichArm] * (sample - self.Q[whichArm])\n",
    "        elif self.mode == 'constant':\n",
    "            self.Q[whichArm] = self.Q[whichArm] + self.a * (sample - self.Q[whichArm])  # 0.1 is alpha\n",
    "            \n",
    "            \n",
    "def simulate(numArms, epsilon, numPulls, mode, Q, alpha):\n",
    "    rewardHistory = np.zeros(numPulls)\n",
    "    for j in range(2000):\n",
    "        if j % 200 == 0:\n",
    "            print(j)\n",
    "        rewards = [np.random.randn() for _ in range(numActions)]\n",
    "        bandit = Bandit(numArms, rewards, epsilon, mode, Q, alpha)\n",
    "        for i in range(numPulls):\n",
    "            reward = bandit.pull()\n",
    "            bandit.updateMean(reward)\n",
    "            rewardHistory[i] += reward\n",
    "    average = rewardHistory / 2000\n",
    "    return average\n",
    "\n",
    "numActions = 10\n",
    "run1 = simulate(numActions, epsilon=0.1, numPulls=1000, mode='constant', Q = 0, alpha = 0.1)\n",
    "run2 = simulate(numActions, epsilon=0.1, numPulls=1000, mode='constant', Q = 0, alpha = 0.2)\n",
    "run3 = simulate(numActions, epsilon=0.1, numPulls=1000, mode='constant', Q = 0, alpha = 0.3)\n",
    "run4 = simulate(numActions, epsilon=0.1, numPulls=1000, mode='constant', Q = 0, alpha = 0.5)\n",
    "plt.plot(run1, 'b--', run2, 'r--', run3, 'g--', run4, 'y--', )\n",
    "plt.legend(['alpha=0.1', 'alpha=0.2', 'alpha=0.3', 'alpha=0.5'])\n",
    "plt.show()"
   ]
  },
  {
   "cell_type": "markdown",
   "metadata": {},
   "source": [
    "Det är ganska klart: desto högre alpha, desto bättre resultat. Den är dock mycket mindre skillnad då alpha >= 0.2, så troligen skulle ytterligare ökning av alpha inte löna sig. Eftersom belöningen randomiseras under varje dragning vore det naturligtvis skadligt att beakta gamla belöningar för mycket, men å andra sidan behövs detta tidsperspektiv för att beakta förändringen. Annars skulle agenten alltid dra i den spak som senast gav en belöning, dvs. densamma som under förra dragningen (om inte belöningen var negativ).\n",
    "\n",
    "Kurvorna hinner inte heller plana ut på 1000 spel."
   ]
  },
  {
   "cell_type": "markdown",
   "metadata": {},
   "source": [
    "## 2. I det optimistiska (optimistic) problemet, jämför resultaten för epsilon =  0 ,  Q1(a) =  1,  5  &  10 "
   ]
  },
  {
   "cell_type": "code",
   "execution_count": 6,
   "metadata": {},
   "outputs": [
    {
     "name": "stdout",
     "output_type": "stream",
     "text": [
      "0\n",
      "200\n",
      "400\n",
      "600\n",
      "800\n",
      "1000\n",
      "1200\n",
      "1400\n",
      "1600\n",
      "1800\n",
      "0\n",
      "200\n",
      "400\n",
      "600\n",
      "800\n",
      "1000\n",
      "1200\n",
      "1400\n",
      "1600\n",
      "1800\n",
      "0\n",
      "200\n",
      "400\n",
      "600\n",
      "800\n",
      "1000\n",
      "1200\n",
      "1400\n",
      "1600\n",
      "1800\n"
     ]
    },
    {
     "data": {
      "image/png": "[encoded data removed]",
      "text/plain": [
       "<Figure size 432x288 with 1 Axes>"
      ]
     },
     "metadata": {
      "needs_background": "light"
     },
     "output_type": "display_data"
    }
   ],
   "source": [
    "class Bandit(object):\n",
    "    def __init__(self, numArms, trueRewards, epsilon, mode, Q, C): #<----\n",
    "        self.Q = [Q for i in range(numArms)]\n",
    "        self.N = [0 for i in range(numArms)]\n",
    "        self.C = C\n",
    "        self.numArms = numArms\n",
    "        self.epsilon = epsilon\n",
    "        self.trueRewards = trueRewards\n",
    "        self.lastAction = None\n",
    "        self.steps = 0\n",
    "        self.mode = mode\n",
    "        \n",
    "    def pull(self):\n",
    "        rand = np.random.random()\n",
    "        if self.C == 0: # vanilla epsilon-greedy        \n",
    "            if rand <= self.epsilon:           \n",
    "                whichArm = np.random.choice(self.numArms)\n",
    "            elif rand > self.epsilon:\n",
    "                a = np.array([approx for approx in self.Q])\n",
    "                whichArm = np.random.choice(np.where(a == a.max())[0]) \n",
    "\n",
    "        elif self.C > 0: # UCB\n",
    "            a = np.zeros(self.numArms)\n",
    "            for idx, approx in enumerate(self.Q):      \n",
    "                if self.N[idx] != 0:          \n",
    "                    a[idx] = approx + self.C * np.sqrt(np.log(self.steps)/self.N[idx])\n",
    "                elif self.N[idx] == 0:\n",
    "                    whichArm = idx\n",
    "                    break\n",
    "            else: # for / else, klurigt!\n",
    "                whichArm = np.random.choice(np.where(a == a.max())[0])            \n",
    "\n",
    "        self.lastAction = whichArm       \n",
    "        self.steps += 1       \n",
    "        return np.random.randn() + self.trueRewards[whichArm]\n",
    "    \n",
    "    def updateMean(self,sample):\n",
    "        whichArm = self.lastAction\n",
    "        self.N[whichArm] += 1  \n",
    "    \n",
    "        if self.mode == 'sample-average':\n",
    "            self.Q[whichArm] = self.Q[whichArm] + 1.0/self.N[whichArm] * (sample - self.Q[whichArm])\n",
    "        elif self.mode == 'constant':\n",
    "            self.Q[whichArm] = self.Q[whichArm] + 0.1 * (sample - self.Q[whichArm])  # 0.1 is alpha\n",
    "            \n",
    "            \n",
    "def simulate(numArms, epsilon, numPulls, mode, Q, C):\n",
    "    rewardHistory = np.zeros(numPulls)\n",
    "    for j in range(2000):\n",
    "        rewards = [np.random.randn() for _ in range(numActions)]\n",
    "        bandit = Bandit(numArms, rewards, epsilon, mode, Q, C)\n",
    "        if j % 200 == 0:\n",
    "            print(j)\n",
    "        for i in range(numPulls):\n",
    "            reward = bandit.pull()\n",
    "            bandit.updateMean(reward)\n",
    "            rewardHistory[i] += reward\n",
    "            \n",
    "    average = rewardHistory / 2000\n",
    "    return average\n",
    "\n",
    "numActions = 10\n",
    "run1 = simulate(numActions, epsilon=0, numPulls=1000, mode='sample-average', Q = 1, C = 0)\n",
    "run2 = simulate(numActions, epsilon=0, numPulls=1000, mode='sample-average', Q = 5, C = 0)\n",
    "run3 = simulate(numActions, epsilon=0, numPulls=1000, mode='sample-average', Q = 10, C = 0)\n",
    "plt.plot(run1, 'b--', run2, 'r--', run3, 'g--')\n",
    "plt.legend(['Q1(a) = 1', 'Q1(a) = 5', 'Q1(a) = 10'])\n",
    "plt.show()"
   ]
  }
 ],
 "metadata": {
  "kernelspec": {
   "display_name": "Python 3",
   "language": "python",
   "name": "python3"
  },
  "language_info": {
   "codemirror_mode": {
    "name": "ipython",
    "version": 3
   },
   "file_extension": ".py",
   "mimetype": "text/x-python",
   "name": "python",
   "nbconvert_exporter": "python",
   "pygments_lexer": "ipython3",
   "version": "3.8.5"
  }
 },
 "nbformat": 4,
 "nbformat_minor": 5
}
